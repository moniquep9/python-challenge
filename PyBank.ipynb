{
 "cells": [
  {
   "cell_type": "code",
   "execution_count": 1,
   "id": "840366f4-d518-416d-98de-e44d3f90362e",
   "metadata": {},
   "outputs": [],
   "source": [
    "import pandas as pd"
   ]
  },
  {
   "cell_type": "code",
   "execution_count": 2,
   "id": "b42df851-fcef-4b80-a23b-d0278250ef54",
   "metadata": {},
   "outputs": [],
   "source": [
    "df = pd.read_csv('Module 3 Challenge/budget_data.csv')"
   ]
  },
  {
   "cell_type": "code",
   "execution_count": 3,
   "id": "4798e92f-fb5f-4bb0-bd26-d4f26525359a",
   "metadata": {},
   "outputs": [],
   "source": [
    "total_months = len(df)"
   ]
  },
  {
   "cell_type": "code",
   "execution_count": 4,
   "id": "6eef573f-7193-4d94-afa2-e828d36312ae",
   "metadata": {},
   "outputs": [],
   "source": [
    "net_total = df['Profit/Losses'].sum()"
   ]
  },
  {
   "cell_type": "code",
   "execution_count": 5,
   "id": "19a18019-b2e8-4de9-a591-e49fa6fda1bc",
   "metadata": {},
   "outputs": [],
   "source": [
    "df['change'] = df['Profit/Losses'].diff()"
   ]
  },
  {
   "cell_type": "code",
   "execution_count": 6,
   "id": "fcac6aec-9ba8-4bdb-9f8a-a759260a8663",
   "metadata": {},
   "outputs": [],
   "source": [
    "average_change = df['change'].mean()"
   ]
  },
  {
   "cell_type": "code",
   "execution_count": 7,
   "id": "b94a2e36-67f2-4c2f-8268-a6c4fa254fea",
   "metadata": {},
   "outputs": [],
   "source": [
    "increase = df.loc[df['change'].idxmax()]"
   ]
  },
  {
   "cell_type": "code",
   "execution_count": 8,
   "id": "ede8c9de-2f24-4d91-ac5e-b15a658c2e4a",
   "metadata": {},
   "outputs": [],
   "source": [
    "decrease = df.loc[df['change'].idxmin()]"
   ]
  },
  {
   "cell_type": "code",
   "execution_count": 9,
   "id": "ed99ba2c-6014-4d35-ae03-edd44d8bbf99",
   "metadata": {},
   "outputs": [
    {
     "name": "stdout",
     "output_type": "stream",
     "text": [
      "Financial Analysis\n",
      "Total Months: 86\n",
      "Net Total: $22,564,198\n",
      "Average Change : -8,311.11\n",
      "Greatest Increase in Profit : Aug-16, 1,862,002\n",
      "Greatest Decrease in Profit : Feb-14, -1,825,558\n"
     ]
    }
   ],
   "source": [
    "print('Financial Analysis')\n",
    "print(f'Total Months: {total_months}')\n",
    "print(f'Net Total: ${net_total:,}')\n",
    "print(f'Average Change : {average_change:,.2f}')\n",
    "print(f'Greatest Increase in Profit : {increase[\"Date\"]}, {increase[\"change\"]:,.0f}')\n",
    "print(f'Greatest Decrease in Profit : {decrease[\"Date\"]}, {decrease[\"change\"]:,.0f}')"
   ]
  },
  {
   "cell_type": "code",
   "execution_count": null,
   "id": "d5f14a99-cf72-4e91-95d3-2024f44e53f4",
   "metadata": {},
   "outputs": [],
   "source": []
  }
 ],
 "metadata": {
  "kernelspec": {
   "display_name": "Python 3 (ipykernel)",
   "language": "python",
   "name": "python3"
  },
  "language_info": {
   "codemirror_mode": {
    "name": "ipython",
    "version": 3
   },
   "file_extension": ".py",
   "mimetype": "text/x-python",
   "name": "python",
   "nbconvert_exporter": "python",
   "pygments_lexer": "ipython3",
   "version": "3.11.5"
  }
 },
 "nbformat": 4,
 "nbformat_minor": 5
}
